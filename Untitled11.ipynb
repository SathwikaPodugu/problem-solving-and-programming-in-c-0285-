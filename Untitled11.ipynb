{
  "nbformat": 4,
  "nbformat_minor": 0,
  "metadata": {
    "colab": {
      "name": "Untitled11.ipynb",
      "provenance": [],
      "authorship_tag": "ABX9TyPq43HhQCZ2Y3Ykh9x5nqm5",
      "include_colab_link": true
    },
    "kernelspec": {
      "name": "python3",
      "display_name": "Python 3"
    },
    "language_info": {
      "name": "python"
    }
  },
  "cells": [
    {
      "cell_type": "markdown",
      "metadata": {
        "id": "view-in-github",
        "colab_type": "text"
      },
      "source": [
        "<a href=\"https://colab.research.google.com/github/SathwikaPodugu/problem-solving-and-programming-in-c-0285-/blob/main/Untitled11.ipynb\" target=\"_parent\"><img src=\"https://colab.research.google.com/assets/colab-badge.svg\" alt=\"Open In Colab\"/></a>"
      ]
    },
    {
      "cell_type": "code",
      "execution_count": null,
      "metadata": {
        "colab": {
          "base_uri": "https://localhost:8080/"
        },
        "id": "hhR9f9bjZuwe",
        "outputId": "96bace9a-5690-4740-add2-61a06823b808"
      },
      "outputs": [
        {
          "output_type": "stream",
          "name": "stdout",
          "text": [
            "name:sathwika\n",
            "age:19\n",
            "gender:female\n"
          ]
        }
      ],
      "source": [
        "def vote(n,a,g):\n",
        " print(n+\"sathwika\")\n",
        " print(a+\"19\")\n",
        " print(g+\"female\")\n",
        "vote(\"name:\",\"age:\",\"gender:\")"
      ]
    },
    {
      "cell_type": "code",
      "source": [
        "def sum(a,b):\n",
        " c=a+b\n",
        " return c\n",
        "print(sum(1,2))"
      ],
      "metadata": {
        "colab": {
          "base_uri": "https://localhost:8080/"
        },
        "id": "vCsksHicaJ-h",
        "outputId": "2720c4e4-a372-4d83-f67d-5f108f42f2b5"
      },
      "execution_count": null,
      "outputs": [
        {
          "output_type": "stream",
          "name": "stdout",
          "text": [
            "3\n"
          ]
        }
      ]
    },
    {
      "cell_type": "code",
      "source": [
        "def fun(country ):\n",
        "  print(\"I am from \" + country)\n",
        "fun(\"Sweden\")\n",
        "fun(\"India\")\n",
        "fun(\"Brazil\")\n"
      ],
      "metadata": {
        "colab": {
          "base_uri": "https://localhost:8080/"
        },
        "id": "r6r__AGActU5",
        "outputId": "54fe5eb9-ab9c-4ad0-f03e-0870f4db54d8"
      },
      "execution_count": 3,
      "outputs": [
        {
          "output_type": "stream",
          "name": "stdout",
          "text": [
            "I am from Sweden\n",
            "I am from India\n",
            "I am from Brazil\n"
          ]
        }
      ]
    },
    {
      "cell_type": "code",
      "source": [
        "def fun(x):\n",
        "  return 5 * x\n",
        "\n",
        "print(fun(3))\n",
        "print(fun(5))\n",
        "print(fun(9))\n"
      ],
      "metadata": {
        "id": "JIsud0q1dI5A",
        "colab": {
          "base_uri": "https://localhost:8080/"
        },
        "outputId": "e4705c25-7a8a-45f6-f1f3-2a3c709ab635"
      },
      "execution_count": 2,
      "outputs": [
        {
          "output_type": "stream",
          "name": "stdout",
          "text": [
            "15\n",
            "25\n",
            "45\n"
          ]
        }
      ]
    },
    {
      "cell_type": "code",
      "source": [
        "def nCr(a,b):\n",
        "  return (fact(a)/(fact(b)*fact(a-b)))\n",
        "a=int(input(\"enter the value\"))\n",
        "b=int(input(\"enter the value\"))\n",
        "def fact(a):\n",
        "    r=1\n",
        "    for i in range(2,a+1):\n",
        "       r=r*i\n",
        "    return r\n",
        "print(int(nCr(a,b)))"
      ],
      "metadata": {
        "colab": {
          "base_uri": "https://localhost:8080/"
        },
        "id": "ndt1oIGmlBDV",
        "outputId": "7fd0b20b-d0fc-40cf-a676-262484c416a7"
      },
      "execution_count": 35,
      "outputs": [
        {
          "output_type": "stream",
          "name": "stdout",
          "text": [
            "enter the value20\n",
            "enter the value10\n",
            "184756\n"
          ]
        }
      ]
    },
    {
      "cell_type": "code",
      "source": [
        "a=[\"red\",\"green\",\"white\",\"black\",\"pink\",\"yellow\"]\n",
        "del a[0]\n",
        "del a[3]\n",
        "print(a)"
      ],
      "metadata": {
        "colab": {
          "base_uri": "https://localhost:8080/"
        },
        "id": "-bp_8H28otk7",
        "outputId": "741c6e29-72e0-4d45-db90-6cd124b809e5"
      },
      "execution_count": 45,
      "outputs": [
        {
          "output_type": "stream",
          "name": "stdout",
          "text": [
            "['green', 'white', 'black', 'yellow']\n"
          ]
        }
      ]
    },
    {
      "cell_type": "code",
      "source": [
        ""
      ],
      "metadata": {
        "id": "OljrsZH7y4rT"
      },
      "execution_count": null,
      "outputs": []
    }
  ]
}